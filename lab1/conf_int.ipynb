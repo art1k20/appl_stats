{
 "cells": [
  {
   "cell_type": "markdown",
   "metadata": {},
   "source": [
    "# Завдання 1"
   ]
  },
  {
   "cell_type": "markdown",
   "metadata": {},
   "source": [
    "Побудувати довірчий інтервал для:\n",
    "\n",
    "a) математичного сподівання a у припущенні, що спостерігаються в.в. ${X_i}$ , які мають нормальний розподіл, але дисперсія $\\sigma^2$ невідома;\n",
    "\n",
    "b) математичного сподівання a у припущенні, що спостерігаються в.в. ${X_i}$,розподіл яких невідомий.\n",
    "\n",
    "c) дисперсії $\\sigma^2$ у припущенні, що спостерігаються в.в. ${X_i}$ , які мають нормальний розподіл."
   ]
  },
  {
   "attachments": {
    "image.png": {
     "image/png": "[encoded data removed]"
    }
   },
   "cell_type": "markdown",
   "metadata": {},
   "source": [
    "![image.png](attachment:image.png)"
   ]
  },
  {
   "cell_type": "code",
   "execution_count": null,
   "metadata": {},
   "outputs": [],
   "source": [
    "import numpy as np\n",
    "import scipy.stats as stats\n",
    "import matplotlib.pyplot as plt"
   ]
  },
  {
   "cell_type": "code",
   "execution_count": 10,
   "metadata": {},
   "outputs": [],
   "source": [
    "n = 100\n",
    "norm_dist = np.random.randn(n)"
   ]
  },
  {
   "cell_type": "code",
   "execution_count": 9,
   "metadata": {},
   "outputs": [
    {
     "name": "stdout",
     "output_type": "stream",
     "text": [
      "Довірчий інтервал: [-0.013546530227931022, 0.03782493214019816]\n"
     ]
    }
   ],
   "source": [
    "gama = 0.995\n",
    "mean = np.mean(norm_dist)\n",
    "std_dev = np.std(norm_dist, ddof=1)\n",
    "t_critical = stats.t.ppf(gama, n-1)\n",
    "margin_of_error = t_critical * (std_dev / np.sqrt(n))\n",
    "lower_bound = mean - margin_of_error\n",
    "upper_bound = mean + margin_of_error\n",
    "print(f\"Довірчий інтервал: [{lower_bound}, {upper_bound}]\")\n",
    "\n"
   ]
  },
  {
   "cell_type": "code",
   "execution_count": null,
   "metadata": {},
   "outputs": [],
   "source": []
  }
 ],
 "metadata": {
  "kernelspec": {
   "display_name": "Python 3",
   "language": "python",
   "name": "python3"
  },
  "language_info": {
   "codemirror_mode": {
    "name": "ipython",
    "version": 3
   },
   "file_extension": ".py",
   "mimetype": "text/x-python",
   "name": "python",
   "nbconvert_exporter": "python",
   "pygments_lexer": "ipython3",
   "version": "3.9.10"
  }
 },
 "nbformat": 4,
 "nbformat_minor": 2
}
