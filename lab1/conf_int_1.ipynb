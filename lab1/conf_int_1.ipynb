{
 "cells": [
  {
   "cell_type": "markdown",
   "metadata": {},
   "source": [
    "# Завдання 1"
   ]
  },
  {
   "cell_type": "markdown",
   "metadata": {},
   "source": [
    "Нехай спостерігається вибірка $X = (X_1,\\dots,X_n)$, де $X_i \\sim N(0,1)$\n",
    "\n",
    "Побудувати довірчий інтервал для:\n",
    "\n",
    "a) математичного сподівання $a$ у припущенні, що спостерігаються в.в. $\\{X_i\\}$ , які мають нормальний розподіл, але дисперсія $\\sigma^2$ невідома;\n",
    "\n",
    "b) математичного сподівання $a$ у припущенні, що спостерігаються в.в. $\\{X_i\\}$,розподіл яких невідомий.\n",
    "\n",
    "c) дисперсії $\\sigma^2$ у припущенні, що спостерігаються в.в. $\\{X_i\\}$ , які мають нормальний розподіл."
   ]
  },
  {
   "cell_type": "code",
   "execution_count": 1,
   "metadata": {},
   "outputs": [],
   "source": [
    "import numpy as np\n",
    "import scipy.stats as stats\n",
    "import matplotlib.pyplot as plt"
   ]
  },
  {
   "cell_type": "markdown",
   "metadata": {},
   "source": [
    "## a) Побудувати довірчий інтервал для математичного сподівання $a$ у припущенні, що спостерігаються в.в. $\\{X_i\\}$ , які мають нормальний розподіл, але дисперсія $\\sigma^2$ невідома."
   ]
  },
  {
   "cell_type": "markdown",
   "metadata": {},
   "source": [
    "Довірчий інтервал для математичного сподівання $a$ має вигляд:\n",
    "$$\n",
    "\\bar{X}\\pm t_{\\frac{1+\\gamma}{2}; n-1}\\cdot \\frac{S}{\\sqrt n}\n",
    "$$\n",
    "де\n",
    "\n",
    "$\\bar{X}  =\\frac{1}{n}\\sum_{i=1}^n X_i$ – вибіркове середнє\n",
    "\n",
    "$S^2  = \\frac{1}{n-1}\\sum_{i=1}^n X_i^2$ – вибіркова дисперсія (незміщена)\n",
    "\n",
    "$t_{\\frac{1+\\gamma}{2}; n-1}$ – критичне значення розподілу Стьюдента з $n−1$ ступенями свободи, яке відповідає квантилю $\\frac{1+\\gamma}{2}$"
   ]
  },
  {
   "cell_type": "code",
   "execution_count": 2,
   "metadata": {},
   "outputs": [
    {
     "name": "stdout",
     "output_type": "stream",
     "text": [
      "Довірчі інтервали для нормального розподілу з невідомою дисперсією:\n",
      "n = 100: \n",
      "Інтервал: [-0.1261, 0.4197]\n",
      "Ширина інтервалу: 0.5457\n",
      "\n",
      "n = 10000: \n",
      "Інтервал: [-0.0213, 0.0297]\n",
      "Ширина інтервалу: 0.0511\n",
      "\n",
      "n = 1000000: \n",
      "Інтервал: [-0.0024, 0.0027]\n",
      "Ширина інтервалу: 0.0052\n",
      "\n"
     ]
    }
   ],
   "source": [
    "def conf_int_a(n: int, gamma: float = 0.99) -> tuple[float, float]:\n",
    "    \"\"\"\n",
    "    Обчислення довірчого інтервалу математичного сподівання \n",
    "    при нормальному розподілі з невідомою дисперсією.\n",
    "\n",
    "    Параметри:\n",
    "    - n: int - Розмір вибірки\n",
    "    - gamma: float - Рівень довіри \n",
    "\n",
    "    Повертає:\n",
    "    - tuple[float, float] - Нижня та верхня межі довірчого інтервалу\n",
    "    \"\"\"\n",
    "\n",
    "    # Генеруємо вибірку зі стандартного нормального розподілу\n",
    "    sample: np.ndarray = np.random.randn(n)\n",
    "    \n",
    "    mean: float = np.mean(sample)  # Вибіркове середнє\n",
    "    std_dev: float = np.std(sample, ddof=1)  # Незміщене стандартне відхилення\n",
    "\n",
    "    # Обчислюємо критичне значення t-розподілу\n",
    "    t_critical: float = stats.t.ppf((1+gamma)/2, n-1)\n",
    "    margin_of_error: float = t_critical * (std_dev / np.sqrt(n))\n",
    "\n",
    "    # Визначаємо межі довірчого інтервалу\n",
    "    lower_bound: float = mean - margin_of_error\n",
    "    upper_bound: float = mean + margin_of_error\n",
    "\n",
    "    return lower_bound, upper_bound\n",
    "\n",
    "\n",
    "# Масив розмірів вибірок\n",
    "n_values: list[int] = [100, 10000, 1000000]\n",
    "\n",
    "# Обчислення та вивід довірчих інтервалів для кожного розміру вибірки\n",
    "print(\"Довірчі інтервали для нормального розподілу з невідомою дисперсією:\")\n",
    "for n in n_values:    \n",
    "    lower_bound, upper_bound = conf_int_a(n)\n",
    "    print(f\"n = {n}: \\nІнтервал: [{lower_bound:.4f}, {upper_bound:.4f}]\")\n",
    "    print(f\"Ширина інтервалу: {upper_bound - lower_bound:.4f}\\n\")"
   ]
  },
  {
   "cell_type": "markdown",
   "metadata": {},
   "source": [
    "## b) Побудувати довірчий інтервал для математичного сподівання $a$ у припущенні, що спостерігаються в.в. $\\{X_i\\}$,розподіл яких невідомий."
   ]
  },
  {
   "cell_type": "markdown",
   "metadata": {},
   "source": [
    "Асимптотичний $\\gamma$-довірчий інтервал для $a$:\n",
    "$$\n",
    "\\bar{X} \\pm z_{\\frac{1+\\gamma}{2}}\\frac{S}{\\sqrt{n}}\n",
    "$$\n",
    "де\n",
    "\n",
    "$\\bar{X}  =\\frac{1}{n}\\sum_{i=1}^n X_i$ – вибіркове середнє\n",
    "\n",
    "$S^2  = \\frac{1}{n-1}\\sum_{i=1}^n X_i^2$ – вибіркова дисперсія (незміщена)\n",
    "\n",
    "$z_{\\frac{1+\\gamma}{2}}$ – критичне значення стандартного нормального розподілу, яке відповідає квантилю $\\frac{1+\\gamma}{2}$"
   ]
  },
  {
   "cell_type": "code",
   "execution_count": 3,
   "metadata": {},
   "outputs": [
    {
     "name": "stdout",
     "output_type": "stream",
     "text": [
      "Довірчі інтервали для невідомого розподілу:\n",
      "n = 100: \n",
      "Інтервал: [-0.1758, 0.3176]\n",
      "Ширина інтервалу: 0.4934\n",
      "\n",
      "n = 10000: \n",
      "Інтервал: [-0.0186, 0.0328]\n",
      "Ширина інтервалу: 0.0514\n",
      "\n",
      "n = 1000000: \n",
      "Інтервал: [-0.0024, 0.0027]\n",
      "Ширина інтервалу: 0.0052\n",
      "\n"
     ]
    }
   ],
   "source": [
    "def conf_int_unknown_dist(n: int, gamma: float = 0.99) -> tuple[float, float]:\n",
    "    \"\"\"\n",
    "    Обчислення довірчого інтервалу математичного сподівання \n",
    "    при невідомому розподілі за допомогою центральної граничної теореми.\n",
    "\n",
    "    Параметри:\n",
    "    - n: int - Розмір вибірки\n",
    "    - gamma: float - Рівень довіри\n",
    "\n",
    "    Повертає:\n",
    "    - tuple[float, float] - Нижня та верхня межі довірчого інтервалу\n",
    "    \"\"\"\n",
    "    # Генеруємо вибірку\n",
    "    sample: np.ndarray = np.random.randn(n)\n",
    "    mean: float = np.mean(sample)  # Вибіркове середнє\n",
    "    std_dev: float = np.std(sample, ddof=1)  # Незміщене стандартне відхилення\n",
    "    \n",
    "    # Обчислюємо критичне значення нормального розподілу\n",
    "    z_critical: float = stats.norm.ppf((1+gamma)/2)\n",
    "    margin_of_error: float = z_critical * (std_dev / np.sqrt(n))\n",
    "    \n",
    "    # Визначаємо межі довірчого інтервалу\n",
    "    lower_bound: float = mean - margin_of_error\n",
    "    upper_bound: float = mean + margin_of_error\n",
    "    \n",
    "    return lower_bound, upper_bound\n",
    "\n",
    "\n",
    "print(\"Довірчі інтервали для невідомого розподілу:\")\n",
    "for n in n_values:    \n",
    "    lower_bound, upper_bound = conf_int_unknown_dist(n)\n",
    "    print(f\"n = {n}: \\nІнтервал: [{lower_bound:.4f}, {upper_bound:.4f}]\")\n",
    "    print(f\"Ширина інтервалу: {upper_bound - lower_bound:.4f}\\n\")"
   ]
  },
  {
   "cell_type": "markdown",
   "metadata": {},
   "source": [
    "## c) Побудувати довірчий інтервал для дисперсії $\\sigma^2$ у припущенні, що спостерігаються в.в. $\\{X_i\\}$ , які мають нормальний розподіл."
   ]
  },
  {
   "cell_type": "markdown",
   "metadata": {},
   "source": [
    "$\\gamma$-довірчий інтервал для дисперсії $\\sigma^2$ нормальної моделі:\n",
    "\n",
    "$$\n",
    "\\left(\\frac{(n-1)S^2}{\\chi^2_{\\frac{1+\\gamma}{2};n-1}},\\frac{(n-1)S^2}{\\chi^2_{\\frac{1-\\gamma}{2};n-1}}\\right)\n",
    "$$\n",
    "де\n",
    "\n",
    "$S^2  = \\frac{1}{n-1}\\sum_{i=1}^n X_i^2$ – вибіркова дисперсія (незміщена)\n",
    "\n",
    "$\\chi^2_{\\frac{1-\\gamma}{2};n-1}$ – квантиль рівня $\\frac{1-\\gamma}{2}$ розподілу $\\chi^2$ з $n-1$ ступенями свободи\n",
    "\n",
    "$\\chi^2_{\\frac{1+\\gamma}{2};n-1}$ – квантиль рівня $\\frac{1+\\gamma}{2}$ розподілу $\\chi^2$ з $n-1$ ступенями свободи"
   ]
  },
  {
   "cell_type": "code",
   "execution_count": 4,
   "metadata": {},
   "outputs": [
    {
     "name": "stdout",
     "output_type": "stream",
     "text": [
      "Довірчі інтервали для дисперсії при нормальному розподілі:\n",
      "n = 100: \n",
      "Інтервал: [0.7391, 1.5446]\n",
      "Ширина інтервалу: 0.8055\n",
      "\n",
      "n = 10000: \n",
      "Інтервал: [0.9821, 1.0563]\n",
      "Ширина інтервалу: 0.0742\n",
      "\n",
      "n = 1000000: \n",
      "Інтервал: [0.9954, 1.0026]\n",
      "Ширина інтервалу: 0.0073\n",
      "\n"
     ]
    }
   ],
   "source": [
    "def conf_int_c(n: int, gamma: float = 0.99) -> tuple[float, float]:\n",
    "    \"\"\"\n",
    "    Обчислення довірчого інтервалу дисперсії \n",
    "    при нормальному розподілі за допомогою хи-квадрат розподілу.\n",
    "\n",
    "    Параметри:\n",
    "    - n: int - Розмір вибірки\n",
    "    - gamma: float - Рівень довіри (за замовчуванням 0.99)\n",
    "\n",
    "    Повертає:\n",
    "    - tuple[float, float] - Нижня та верхня межі довірчого інтервалу\n",
    "    \"\"\"\n",
    "    # Генеруємо вибірку зі стандартного нормального розподілу\n",
    "    sample: np.ndarray = np.random.randn(n)\n",
    "    var_dev: float = np.var(sample, ddof=1)  # Незміщена вибіркова дисперсія \n",
    "    \n",
    "    # Обчислюємо критичні значення хі-квадрат розподілу\n",
    "    chi_critical_lower: float = stats.chi2.ppf((1-gamma)/2, n-1)\n",
    "    chi_critical_upper: float = stats.chi2.ppf((1+gamma)/2, n-1)\n",
    "    \n",
    "    # Визначаємо межі довірчого інтервалу для дисперсії\n",
    "    lower_bound: float = (n * var_dev) / chi_critical_upper\n",
    "    upper_bound: float = (n * var_dev) / chi_critical_lower\n",
    "    \n",
    "    return lower_bound, upper_bound\n",
    "\n",
    "# Обчислення та вивід довірчих інтервалів для кожного розміру вибірки\n",
    "print(\"Довірчі інтервали для дисперсії при нормальному розподілі:\")\n",
    "for n in n_values:    \n",
    "    lower_bound, upper_bound = conf_int_c(n)\n",
    "    print(f\"n = {n}: \\nІнтервал: [{lower_bound:.4f}, {upper_bound:.4f}]\")\n",
    "    print(f\"Ширина інтервалу: {upper_bound - lower_bound:.4f}\\n\")"
   ]
  }
 ],
 "metadata": {
  "kernelspec": {
   "display_name": "stepok",
   "language": "python",
   "name": "python3"
  },
  "language_info": {
   "codemirror_mode": {
    "name": "ipython",
    "version": 3
   },
   "file_extension": ".py",
   "mimetype": "text/x-python",
   "name": "python",
   "nbconvert_exporter": "python",
   "pygments_lexer": "ipython3",
   "version": "3.11.5"
  }
 },
 "nbformat": 4,
 "nbformat_minor": 2
}
