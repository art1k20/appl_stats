{
 "cells": [
  {
   "cell_type": "markdown",
   "metadata": {},
   "source": [
    "# Перевірка статистичної гіпотези про вигляд розподілу"
   ]
  },
  {
   "cell_type": "markdown",
   "metadata": {},
   "source": [
    "Спостерігається вибірка $X_1,\\dots,X_n$, де $\\{X_i\\}$ – незалежні однаково розподілені випадкові величини, які мають показниковий розподіл з параметром $\\lambda$, тобто\n",
    " $F(u,\\lambda)=\\mathbb{P}(X_i\\leq u)=1-e^{-u\\lambda}, u\\geq 0$"
   ]
  },
  {
   "cell_type": "markdown",
   "metadata": {},
   "source": [
    "Перевірку статистичних гіпотез вести при рівні значимості $\\gamma=0.05$. Кожне з\n",
    "наступних чотирьох завдань виконувати для $n=1000$, $n=10\\ 000$ та $n=100\\ 000$.\n",
    "\n",
    "Користуючись перетворенням $Y_i=F(X_i,\\lambda), i=1,\\dots,n$ перевіряти на рівномірність\n",
    "випадкові величини ${Y_i}$ (<u>лише перші три завдання</u>)."
   ]
  },
  {
   "cell_type": "code",
   "execution_count": 46,
   "metadata": {},
   "outputs": [],
   "source": [
    "import numpy as np\n",
    "import matplotlib.pyplot as plt\n",
    "import scipy.stats as stats"
   ]
  },
  {
   "cell_type": "markdown",
   "metadata": {},
   "source": [
    "## Завдання 1\n",
    "За допомогою критерія Колмогорова перевірити гіпотези:\n",
    "\n",
    "a) $H_0: X_i\\sim F(u;1)$, коли насправді $X_i\\sim F(u;1)$\n",
    "\n",
    "b) $H_0: X_i\\sim F(u;1)$, коли насправді $X_i\\sim F(u;1.2)$"
   ]
  },
  {
   "cell_type": "code",
   "execution_count": 47,
   "metadata": {},
   "outputs": [],
   "source": [
    "def ks_critical_value(n_trials, alpha):\n",
    "    return stats.ksone.ppf(1-alpha/2, n_trials)"
   ]
  },
  {
   "cell_type": "code",
   "execution_count": 48,
   "metadata": {},
   "outputs": [],
   "source": [
    "def exp_dist(n_trials, lambdda):\n",
    "    return np.random.exponential(lambdda, n_trials)\n"
   ]
  },
  {
   "cell_type": "code",
   "execution_count": 49,
   "metadata": {},
   "outputs": [],
   "source": [
    "def F(x):\n",
    "    return 1 - np.exp(-x)"
   ]
  },
  {
   "cell_type": "code",
   "execution_count": 50,
   "metadata": {},
   "outputs": [],
   "source": [
    "def ks_statistic(n_trials, lambdda):\n",
    "    x_k = np.sort(exp_dist(n_trials, lambdda))\n",
    "    d = 0.0\n",
    "    for i in range(1,n_trials):\n",
    "                d = np.max(\n",
    "            [d, np.max([F(x_k[i]) - (i - 1) / n_trials, i / n_trials - F(x_k[i])])]\n",
    "        )\n",
    "\n",
    "    return d\n"
   ]
  },
  {
   "cell_type": "code",
   "execution_count": null,
   "metadata": {},
   "outputs": [
    {
     "name": "stdout",
     "output_type": "stream",
     "text": [
      "lambda = 1\n",
      "Розмір вибірки = 1000\n",
      "Статистика = 0.03685875614974071 та Критичне значення = 0.04277658868221006\n",
      "Приймаємо нульову гіпотезу\n",
      "lambda = 1.2\n",
      "Розмір вибірки = 1000\n",
      "Статистика = 0.10066558958013172 та Критичне значення = 0.04277658868221006\n",
      "Приймаємо альтернативну гіпотезу\n",
      "\n",
      "lambda = 1\n",
      "Розмір вибірки = 10000\n",
      "Статистика = 0.013943817477904297 та Критичне значення = 0.013564231504551329\n",
      "Приймаємо альтернативну гіпотезу\n",
      "lambda = 1.2\n",
      "Розмір вибірки = 10000\n",
      "Статистика = 0.06655479282170718 та Критичне значення = 0.013564231504551329\n",
      "Приймаємо альтернативну гіпотезу\n",
      "\n",
      "lambda = 1\n",
      "Розмір вибірки = 100000\n",
      "Статистика = 0.003084569586419672 та Критичне значення = 0.004293023712782618\n",
      "Приймаємо нульову гіпотезу\n",
      "lambda = 1.2\n",
      "Розмір вибірки = 100000\n",
      "Статистика = 0.06938610993582561 та Критичне значення = 0.004293023712782618\n",
      "Приймаємо альтернативну гіпотезу\n",
      "\n"
     ]
    }
   ],
   "source": [
    "lambda_ = [1, 1.2]\n",
    "n_trials_ = [1000, 10000, 100000]\n",
    "alpha = 0.05\n",
    "\n",
    "for n_trials in n_trials_:\n",
    "    for lam in lambda_:\n",
    "        stat = ks_statistic(n_trials, lam)\n",
    "        critical_value = ks_critical_value(n_trials, alpha)\n",
    "        print(f\"lambda = {lam}\")\n",
    "        print(f\"Розмір вибірки = {n_trials}\")\n",
    "        print(f\"Статистика = {stat} та Критичне значення = {critical_value}\")\n",
    "        if stat > critical_value:\n",
    "            print(\"Приймаємо альтернативну гіпотезу\")\n",
    "        else:\n",
    "            print(\"Приймаємо нульову гіпотезу\")\n",
    "    print()"
   ]
  },
  {
   "cell_type": "markdown",
   "metadata": {},
   "source": [
    "## Завдання 2\n",
    "За допомогою критерія $\\chi^2$ перевірити гіпотези:\n",
    "\n",
    "a) $H_0: X_i\\sim F(u;1)$, коли насправді $X_i\\sim F(u;1)$\n",
    "\n",
    "b) $H_0: X_i\\sim F(u;1)$, коли насправді $X_i\\sim F(u;1.2)$\n",
    "\n",
    "<u>*Зауваження*</u>: $r=30\\cdot\\frac{n}{1000}$"
   ]
  },
  {
   "cell_type": "code",
   "execution_count": null,
   "metadata": {},
   "outputs": [
    {
     "data": {
      "text/plain": [
       "(23.780544722399853, 47.06556237421979, 42.55696780429269)"
      ]
     },
     "execution_count": 55,
     "metadata": {},
     "output_type": "execute_result"
    }
   ],
   "source": [
    "\n",
    "\n",
    "\n",
    "for n in n_trials:\n",
    "    r = int(30 * n / 1000)  # Кількість інтервалів\n",
    "\n",
    "    # Генеруємо вибірку для випадку (a) і (b)\n",
    "    np.random.seed(42)\n",
    "    sample_a = np.random.exponential(scale=1, size=n)       # Параметр λ = 1\n",
    "    sample_b = np.random.exponential(scale=1/1.2, size=n)   # Параметр λ = 1.2\n",
    "\n",
    "    # Визначаємо межі інтервалів (рівномірно за квантилями)\n",
    "    bins = np.quantile(sample_a, np.linspace(0, 1, r + 1))\n",
    "\n",
    "    # Обчислюємо частоти для випадку (a)\n",
    "    observed_a, _ = np.histogram(sample_a, bins=bins)\n",
    "    expected_a = n * np.diff(1 - np.exp(-bins))\n",
    "\n",
    "    # Обчислюємо частоти для випадку (b)\n",
    "    observed_b, _ = np.histogram(sample_b, bins=bins)\n",
    "    expected_b = n * np.diff(1 - np.exp(-bins))\n",
    "\n",
    "    # Обчислюємо значення критерію хі-квадрат\n",
    "    chi2_stat_a = np.sum((observed_a - expected_a) ** 2 / expected_a)\n",
    "    chi2_stat_b = np.sum((observed_b - expected_b) ** 2 / expected_b)\n",
    "\n",
    "    # Критичне значення для рівня значущості 0.05 і r-1 ступенів свободи\n",
    "    alpha = 0.05\n",
    "    critical_value = stats.chi2.ppf(1 - alpha, df=r-1)\n",
    "\n",
    "    if stat > critical_value:\n",
    "        print(\"Приймаємо альтернативну гіпотезу\")\n",
    "    else:\n",
    "        print(\"Приймаємо нульову гіпотезу\")\n",
    "    \n"
   ]
  },
  {
   "cell_type": "markdown",
   "metadata": {},
   "source": [
    "## Завдання 3\n",
    "За допомогою критерія пустих ящиків (асимптотична теорема) перевірити гіпотези:\n",
    "\n",
    "a) $H_0: X_i\\sim F(u;1)$, коли насправді $X_i\\sim F(u;1)$\n",
    "\n",
    "b) $H_0: X_i\\sim F(u;1)$, коли насправді $X_i\\sim F(u;1.2)$\n",
    "\n",
    "<u>*Зауваження*</u>: $r=\\frac{n}{2}$"
   ]
  },
  {
   "cell_type": "code",
   "execution_count": null,
   "metadata": {},
   "outputs": [],
   "source": []
  },
  {
   "cell_type": "markdown",
   "metadata": {},
   "source": [
    "## Завдання 4\n",
    "За допомогою критерія однорідності Смирнова перевірити гіпотези\n",
    "\n",
    "a) $H_0: (X_1^{(1)},\\dots,X_n^{(1)})\\sim F(u;1) \\quad (X_1^{(2)},\\dots,X_m^{(2)})\\sim F(u;1)$ (саме так ці вибірки і генерувались);\n",
    "\n",
    "b) $H_0: (X_1^{(1)},\\dots,X_n^{(1)})\\sim F(u;1) \\quad (X_1^{(2)},\\dots,X_m^{(2)})\\sim F(u;1)$ (насправді $\\overline{X}^{(1)}\\sim F(u;1) \\quad \\overline{X}^{(2)}\\sim F(u;1.2)$);\n",
    "\n",
    "<u>*Зауваження*</u>: обрати $m=\\frac{n}{2}$"
   ]
  },
  {
   "cell_type": "code",
   "execution_count": null,
   "metadata": {},
   "outputs": [],
   "source": []
  }
 ],
 "metadata": {
  "kernelspec": {
   "display_name": "Python 3",
   "language": "python",
   "name": "python3"
  },
  "language_info": {
   "codemirror_mode": {
    "name": "ipython",
    "version": 3
   },
   "file_extension": ".py",
   "mimetype": "text/x-python",
   "name": "python",
   "nbconvert_exporter": "python",
   "pygments_lexer": "ipython3",
   "version": "3.9.10"
  }
 },
 "nbformat": 4,
 "nbformat_minor": 2
}
