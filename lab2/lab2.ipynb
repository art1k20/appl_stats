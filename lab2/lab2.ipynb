{
 "cells": [
  {
   "cell_type": "markdown",
   "metadata": {},
   "source": [
    "# Перевірка статистичної гіпотези про вигляд розподілу"
   ]
  },
  {
   "cell_type": "markdown",
   "metadata": {},
   "source": [
    "Спостерігається вибірка $X_1,\\dots,X_n$, де $\\{X_i\\}$ – незалежні однаково розподілені випадкові величини, які мають показниковий розподіл з параметром $\\lambda$, тобто\n",
    " $F(u,\\lambda)=\\mathbb{P}(X_i\\leq u)=1-e^{-u\\lambda}, u\\geq 0$"
   ]
  },
  {
   "cell_type": "markdown",
   "metadata": {},
   "source": [
    "Перевірку статистичних гіпотез вести при рівні значимості $\\gamma=0.05$. Кожне з\n",
    "наступних чотирьох завдань виконувати для $n=1000$, $n=10\\ 000$ та $n=100\\ 000$.\n",
    "\n",
    "Користуючись перетворенням $Y_i=F(X_i,\\lambda), i=1,\\dots,n$ перевіряти на рівномірність\n",
    "випадкові величини ${Y_i}$ (<u>лише перші три завдання</u>)."
   ]
  },
  {
   "cell_type": "markdown",
   "metadata": {},
   "source": [
    "## Завдання 1\n",
    "За допомогою критерія Колмогорова перевірити гіпотези:\n",
    "\n",
    "a) $H_0: X_i\\sim F(u;1)$, коли насправді $X_i\\sim F(u;1)$\n",
    "\n",
    "b) $H_0: X_i\\sim F(u;1)$, коли насправді $X_i\\sim F(u;1.2)$"
   ]
  },
  {
   "cell_type": "code",
   "execution_count": null,
   "metadata": {
    "vscode": {
     "languageId": "plaintext"
    }
   },
   "outputs": [],
   "source": []
  },
  {
   "cell_type": "markdown",
   "metadata": {},
   "source": [
    "## Завдання 2\n",
    "За допомогою критерія $\\chi^2$ перевірити гіпотези:\n",
    "\n",
    "a) $H_0: X_i\\sim F(u;1)$, коли насправді $X_i\\sim F(u;1)$\n",
    "\n",
    "b) $H_0: X_i\\sim F(u;1)$, коли насправді $X_i\\sim F(u;1.2)$\n",
    "\n",
    "<u>*Зауваження*</u>: $r=30\\cdot\\frac{n}{1000}$"
   ]
  },
  {
   "cell_type": "code",
   "execution_count": null,
   "metadata": {
    "vscode": {
     "languageId": "plaintext"
    }
   },
   "outputs": [],
   "source": []
  },
  {
   "cell_type": "markdown",
   "metadata": {},
   "source": [
    "## Завдання 3\n",
    "За допомогою критерія пустих ящиків (асимптотична теорема) перевірити гіпотези:\n",
    "\n",
    "a) $H_0: X_i\\sim F(u;1)$, коли насправді $X_i\\sim F(u;1)$\n",
    "\n",
    "b) $H_0: X_i\\sim F(u;1)$, коли насправді $X_i\\sim F(u;1.2)$\n",
    "\n",
    "<u>*Зауваження*</u>: $r=\\frac{n}{2}$"
   ]
  },
  {
   "cell_type": "code",
   "execution_count": null,
   "metadata": {
    "vscode": {
     "languageId": "plaintext"
    }
   },
   "outputs": [],
   "source": []
  },
  {
   "cell_type": "markdown",
   "metadata": {},
   "source": [
    "## Завдання 4\n",
    "За допомогою критерія однорідності Смирнова перевірити гіпотези\n",
    "\n",
    "a) $H_0: (X_1^{(1)},\\dots,X_n^{(1)})\\sim F(u;1) \\quad (X_1^{(2)},\\dots,X_m^{(2)})\\sim F(u;1)$ (саме так ці вибірки і генерувались);\n",
    "\n",
    "b) $H_0: (X_1^{(1)},\\dots,X_n^{(1)})\\sim F(u;1) \\quad (X_1^{(2)},\\dots,X_m^{(2)})\\sim F(u;1)$ (насправді $\\overline{X}^{(1)}\\sim F(u;1) \\quad \\overline{X}^{(2)}\\sim F(u;1.2)$);\n",
    "\n",
    "<u>*Зауваження*</u>: обрати $m=\\frac{n}{2}$"
   ]
  },
  {
   "cell_type": "code",
   "execution_count": null,
   "metadata": {
    "vscode": {
     "languageId": "plaintext"
    }
   },
   "outputs": [],
   "source": []
  }
 ],
 "metadata": {
  "language_info": {
   "name": "python"
  }
 },
 "nbformat": 4,
 "nbformat_minor": 2
}
